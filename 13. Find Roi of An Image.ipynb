{
 "cells": [
  {
   "cell_type": "markdown",
   "id": "11300acb-87b5-4c2b-9dd2-1d0079727648",
   "metadata": {},
   "source": [
    "# Import Libraries"
   ]
  },
  {
   "cell_type": "code",
   "execution_count": 1,
   "id": "7eb01127-f22c-485e-b400-a5487497d3f6",
   "metadata": {},
   "outputs": [],
   "source": [
    "import cv2 as cv\n",
    "import numpy as np\n",
    "import matplotlib.pyplot as plt"
   ]
  },
  {
   "cell_type": "code",
   "execution_count": 3,
   "id": "b0d9999b-6d98-4dcb-8c35-afca599f5140",
   "metadata": {},
   "outputs": [],
   "source": [
    "#read image\n",
    "img = cv.imread(\"..\\data\\images.jpeg\")\n",
    "\n",
    "img = cv.resize(img,(600,600))\n",
    "\n",
    "#ROI (231,41) (342,161)\n",
    "\n",
    "#pass [(y1:y2),(x1,x2)]\n",
    "#y = 161-41 =120 , x= 342-231 = 111\n",
    "\n",
    "roi = img[41:161, 231:342]\n",
    "\n",
    "#now passing data into img\n",
    "img[41:161, 343:454] = roi\n",
    "img[41:161, 455:566] = roi\n",
    "\n",
    "img[41:161, 119:230] = roi\n",
    "img[41:161, 8:119] = roi\n",
    "\n",
    "\n",
    "cv.imshow(\"original\",img)\n",
    "cv.imwrite(\"..\\data\\img.png\",img)\n",
    "\n",
    "cv.waitKey(0)\n",
    "cv.destroyAllWindows()"
   ]
  },
  {
   "cell_type": "code",
   "execution_count": null,
   "id": "c35eb015-1f24-47fc-bb51-271585ce9a30",
   "metadata": {},
   "outputs": [],
   "source": []
  }
 ],
 "metadata": {
  "kernelspec": {
   "display_name": "Python 3 (ipykernel)",
   "language": "python",
   "name": "python3"
  },
  "language_info": {
   "codemirror_mode": {
    "name": "ipython",
    "version": 3
   },
   "file_extension": ".py",
   "mimetype": "text/x-python",
   "name": "python",
   "nbconvert_exporter": "python",
   "pygments_lexer": "ipython3",
   "version": "3.10.2"
  }
 },
 "nbformat": 4,
 "nbformat_minor": 5
}
