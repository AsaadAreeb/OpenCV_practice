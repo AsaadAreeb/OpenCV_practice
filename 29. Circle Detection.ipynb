{
 "cells": [
  {
   "cell_type": "markdown",
   "id": "71bb7ef2-6c0f-4446-8a4a-cfb6199e93bc",
   "metadata": {},
   "source": [
    "# Import Libraries"
   ]
  },
  {
   "cell_type": "code",
   "execution_count": 1,
   "id": "65edc409-6c9d-42d0-857e-61db06fbbd86",
   "metadata": {},
   "outputs": [],
   "source": [
    "import cv2 as cv\n",
    "import numpy as np\n",
    "import matplotlib.pyplot as plt"
   ]
  },
  {
   "cell_type": "code",
   "execution_count": 2,
   "id": "e4a06d1d-8248-4fd4-a6c5-be46664ef45d",
   "metadata": {},
   "outputs": [],
   "source": [
    "img = cv.imread(\"..\\data\\expert.png\")\n",
    "img2 = img.copy()\n",
    "\n",
    "gray = cv.cvtColor(img, cv.COLOR_BGR2GRAY)\n",
    "gray = cv.medianBlur(gray, 5)\n",
    "\n",
    "# parameters---(img, circle_method, dp, mindist, parm1, parm2[p1>p2])\n",
    "circles = cv.HoughCircles(gray, cv.HOUGH_GRADIENT, 1, 20,\n",
    "                          param1=50, param2=30, minRadius=0,\n",
    "                          maxRadius=0)\n",
    "\n",
    "data = np.uint16(np.around(circles))\n",
    "for (x, y, r) in data[0, :]:\n",
    "    cv.circle(img2, (x, y), r, (50, 10, 50), 3) # outer circle\n",
    "    cv.circle(img2, (x, y), 2, (0, 255, 100), -1) # center\n",
    "\n",
    "cv.imshow(\"Original\", img)\n",
    "cv.imshow(\"Result\", img2)\n",
    "\n",
    "cv.waitKey(0)\n",
    "cv.destroyAllWindows()"
   ]
  },
  {
   "cell_type": "code",
   "execution_count": null,
   "id": "7ceff835-d434-44cb-b3f5-60929fcab78b",
   "metadata": {},
   "outputs": [],
   "source": []
  }
 ],
 "metadata": {
  "kernelspec": {
   "display_name": "Python 3 (ipykernel)",
   "language": "python",
   "name": "python3"
  },
  "language_info": {
   "codemirror_mode": {
    "name": "ipython",
    "version": 3
   },
   "file_extension": ".py",
   "mimetype": "text/x-python",
   "name": "python",
   "nbconvert_exporter": "python",
   "pygments_lexer": "ipython3",
   "version": "3.10.2"
  }
 },
 "nbformat": 4,
 "nbformat_minor": 5
}
