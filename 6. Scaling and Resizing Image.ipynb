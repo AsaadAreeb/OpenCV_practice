{
 "cells": [
  {
   "cell_type": "markdown",
   "id": "0f96e0e0-7ce2-4a92-9f62-5a0d4605ba62",
   "metadata": {},
   "source": [
    "# Import libraries"
   ]
  },
  {
   "cell_type": "code",
   "execution_count": 2,
   "id": "3fffc2a5-899c-40a5-bb47-2f7ef7ec9dcc",
   "metadata": {},
   "outputs": [],
   "source": [
    "import cv2 as cv\n",
    "import numpy as np"
   ]
  },
  {
   "cell_type": "markdown",
   "id": "5a8dd1fd-fd9c-4875-a2ad-1db78888659f",
   "metadata": {},
   "source": [
    "# Read/Load Image"
   ]
  },
  {
   "cell_type": "code",
   "execution_count": 4,
   "id": "58169a71-d6fa-4e30-882f-89a575b887ee",
   "metadata": {},
   "outputs": [],
   "source": [
    "input_image = cv.imread(\"..\\data\\image-7.png\")\n",
    "cv.imshow(\"Original Image\", input_image)\n",
    "\n",
    "cv.waitKey(10000)\n",
    "cv.destroyAllWindows()"
   ]
  },
  {
   "cell_type": "markdown",
   "id": "80608be7-19cc-405c-b053-846912f193fd",
   "metadata": {},
   "source": [
    "# Making Image 1/2 of its's orginal size"
   ]
  },
  {
   "cell_type": "code",
   "execution_count": 5,
   "id": "ad9af38f-4844-4f53-9876-cb014cacad74",
   "metadata": {},
   "outputs": [],
   "source": [
    "scaled_image1 = cv.resize(input_image, None, fx=0.5, fy=0.5)\n",
    "cv.imshow(\"Scaled Image Down\", scaled_image1)\n",
    "\n",
    "cv.waitKey(10000)\n",
    "cv.destroyAllWindows()"
   ]
  },
  {
   "cell_type": "markdown",
   "id": "d07d8d5d-7abf-4aa8-9bac-05902b7dd513",
   "metadata": {},
   "source": [
    "# Making Image 1.5 times the size of orginal image"
   ]
  },
  {
   "cell_type": "code",
   "execution_count": 6,
   "id": "d9b0983d-d3ea-433e-9cd4-4aab7ccc1000",
   "metadata": {},
   "outputs": [],
   "source": [
    "scaled_image2 = cv.resize(input_image, None, fx=1.5, fy=1.5, interpolation=cv.INTER_AREA)\n",
    "cv.imshow(\"Scaling-Interpolation\", scaled_image2)\n",
    "\n",
    "cv.waitKey(10000)\n",
    "cv.destroyAllWindows()"
   ]
  },
  {
   "cell_type": "markdown",
   "id": "87bf9e3a-7ba8-4767-a29c-2e1305da0659",
   "metadata": {},
   "source": [
    "# Showing the resizing by setting exact dimensions"
   ]
  },
  {
   "cell_type": "code",
   "execution_count": 9,
   "id": "2389d616-5114-4e04-9134-1ae12458e70e",
   "metadata": {},
   "outputs": [],
   "source": [
    "scaled_image3 = cv.resize(input_image, (700, 250), interpolation = cv.INTER_AREA)\n",
    "cv.imshow('Scaling-Skewed Image', scaled_image3)\n",
    "\n",
    "cv.waitKey(10000)\n",
    "cv.destroyAllWindows()"
   ]
  },
  {
   "cell_type": "markdown",
   "id": "30b2cb65-d671-4515-aa6b-84a8adf9526e",
   "metadata": {},
   "source": [
    "# Image Pyramid"
   ]
  },
  {
   "cell_type": "code",
   "execution_count": 10,
   "id": "0c0618fe-f8b5-4173-86ad-31af77171c88",
   "metadata": {},
   "outputs": [],
   "source": [
    "input_image = cv.imread(\"..\\data\\image-7.png\")\n",
    "cv.imshow(\"Original Image\", input_image)\n",
    "\n",
    "cv.waitKey(10000)\n",
    "cv.destroyAllWindows()\n",
    "\n",
    "smaller_image = cv.pyrDown(input_image)\n",
    "larger_image = cv.pyrUp(smaller_image)\n",
    "\n",
    "cv.imshow(\"Smaller\", smaller_image)\n",
    "cv.imshow(\"Larger\", larger_image)\n",
    "\n",
    "cv.waitKey(10000)\n",
    "cv.destroyAllWindows()"
   ]
  },
  {
   "cell_type": "code",
   "execution_count": null,
   "id": "716a93c5-a4d6-419f-be9f-5704b1a9e6de",
   "metadata": {},
   "outputs": [],
   "source": []
  }
 ],
 "metadata": {
  "kernelspec": {
   "display_name": "Python 3 (ipykernel)",
   "language": "python",
   "name": "python3"
  },
  "language_info": {
   "codemirror_mode": {
    "name": "ipython",
    "version": 3
   },
   "file_extension": ".py",
   "mimetype": "text/x-python",
   "name": "python",
   "nbconvert_exporter": "python",
   "pygments_lexer": "ipython3",
   "version": "3.10.2"
  }
 },
 "nbformat": 4,
 "nbformat_minor": 5
}
