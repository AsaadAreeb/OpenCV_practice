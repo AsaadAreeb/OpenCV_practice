{
 "cells": [
  {
   "cell_type": "markdown",
   "id": "3efb3adb-0b43-4511-bb11-b39694bf2fa7",
   "metadata": {},
   "source": [
    "# Import libraries"
   ]
  },
  {
   "cell_type": "code",
   "execution_count": 1,
   "id": "704113f4-d305-45b3-8156-989396ea0e1a",
   "metadata": {},
   "outputs": [],
   "source": [
    "import cv2 as cv\n",
    "import numpy as np\n",
    "import matplotlib.pyplot as plt"
   ]
  },
  {
   "cell_type": "markdown",
   "id": "d94566ae-a9d2-49c6-8977-f441ad20a421",
   "metadata": {},
   "source": [
    "# Read/load Imput image"
   ]
  },
  {
   "cell_type": "code",
   "execution_count": 3,
   "id": "d024ea71-64e5-4152-8856-7b707fe01b19",
   "metadata": {},
   "outputs": [],
   "source": [
    "input_image = cv.imread(\"../data/note.jpg\")\n",
    "cv.imshow(\"Original Image\", input_image)\n",
    "\n",
    "cv.waitKey(10000)\n",
    "cv.destroyAllWindows()"
   ]
  },
  {
   "cell_type": "code",
   "execution_count": 4,
   "id": "6431824c-b3d1-4449-a01a-46e366280cb7",
   "metadata": {},
   "outputs": [
    {
     "data": {
      "text/plain": [
       "-1"
      ]
     },
     "execution_count": 4,
     "metadata": {},
     "output_type": "execute_result"
    }
   ],
   "source": [
    "# Cordinates of the 4 corners of the original image\n",
    "orig_img_coor = np.float32([[71, 72], [369, 74], [19, 485], [435, 484]])\n",
    "\n",
    "for x in range(0, 4):\n",
    "    cv.circle(input_image, (int(orig_img_coor[x][0]), int(orig_img_coor[x][1])), 5, (255,0,0), -1)\n",
    "\n",
    "# Show the original image\n",
    "cv.imshow('Coordinates Marked', input_image)\n",
    "cv.waitKey(10000)"
   ]
  },
  {
   "cell_type": "code",
   "execution_count": 6,
   "id": "5d3b8f70-37d4-4d19-98c8-af77a5494e3a",
   "metadata": {},
   "outputs": [],
   "source": [
    "h, w = 450, 350\n",
    "\n",
    "# Cordinates of the 4 corners of the target output\n",
    "new_img_coor = np.float32([[0, 0], [w, 0], [h, 0], [w, h]])\n",
    "\n",
    "# Use the two sets of four points to compute the perpective transformation matrix, P\n",
    "P = cv.getPerspectiveTransform(orig_img_coor, new_img_coor)\n",
    "\n",
    "perspective = cv.warpPerspective(input_image, P, (w, h))\n",
    "\n",
    "cv.imshow('warpPerspective', perspective)\n",
    "cv.waitKey(5000)\n",
    "cv.destroyAllWindows()"
   ]
  },
  {
   "cell_type": "code",
   "execution_count": null,
   "id": "64e2b925-279a-4fc3-a7b5-54e69eec5cac",
   "metadata": {},
   "outputs": [],
   "source": []
  }
 ],
 "metadata": {
  "kernelspec": {
   "display_name": "Python 3 (ipykernel)",
   "language": "python",
   "name": "python3"
  },
  "language_info": {
   "codemirror_mode": {
    "name": "ipython",
    "version": 3
   },
   "file_extension": ".py",
   "mimetype": "text/x-python",
   "name": "python",
   "nbconvert_exporter": "python",
   "pygments_lexer": "ipython3",
   "version": "3.10.2"
  }
 },
 "nbformat": 4,
 "nbformat_minor": 5
}
