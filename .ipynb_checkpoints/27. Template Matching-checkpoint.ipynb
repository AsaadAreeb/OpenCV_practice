{
 "cells": [
  {
   "cell_type": "markdown",
   "id": "4374b52b-8c33-41d1-9e37-c6968714cff0",
   "metadata": {},
   "source": [
    "# Import Libraries"
   ]
  },
  {
   "cell_type": "code",
   "execution_count": 1,
   "id": "e4b61c67-08ed-4795-906c-219294c931a4",
   "metadata": {},
   "outputs": [],
   "source": [
    "import cv2 as cv\n",
    "import numpy as np\n",
    "import matplotlib.pyplot as plt"
   ]
  },
  {
   "cell_type": "code",
   "execution_count": 2,
   "id": "4ad5b95d-5c1d-4514-9cdb-30f0878ac5ff",
   "metadata": {},
   "outputs": [
    {
     "name": "stdout",
     "output_type": "stream",
     "text": [
      "res== [[0.9999981]]\n",
      "bright pixels== (array([0], dtype=int64), array([0], dtype=int64))\n",
      "i=== (0, 0)\n",
      "number of iterations== 1\n"
     ]
    }
   ],
   "source": [
    "img = cv.imread(\"..\\data\\expert.png\")\n",
    "\n",
    "grey_img = cv.cvtColor(img, cv.COLOR_BGR2GRAY)\n",
    "template = cv.imread(\"..\\data\\expert.png\", 0)\n",
    "w, h = template.shape[::-1]\n",
    "\n",
    "# this function accept prameters (img, template, method)\n",
    "res = cv.matchTemplate(grey_img, template, cv.TM_CCORR_NORMED)\n",
    "print(\"res==\", res)\n",
    "\n",
    "threshold = 0.99\n",
    "loc = np.where(res >= threshold)  # find brightest point\n",
    "print(\"bright pixels==\", loc)\n",
    "\n",
    "count = 0\n",
    "for i in zip(*loc[::-1]):\n",
    "    print(\"i===\", i)\n",
    "    cv.rectangle(img, i, (i[0] + w, i[1] + h), (0, 0, 255), 2)\n",
    "    count+=1\n",
    "    \n",
    "print(\"number of iterations==\", count)\n",
    "\n",
    "img = cv.resize(img, (800,600))\n",
    "res = cv.resize(res, (800,600))\n",
    "\n",
    "cv.imshow(\"img\", img)\n",
    "cv.imshow(\"match temp==\", res)\n",
    "\n",
    "cv.waitKey(0)\n",
    "cv.destroyAllWindows()"
   ]
  },
  {
   "cell_type": "code",
   "execution_count": null,
   "id": "f4c215b9-13ca-4ea3-b5ca-f1e79b039b98",
   "metadata": {},
   "outputs": [],
   "source": []
  }
 ],
 "metadata": {
  "kernelspec": {
   "display_name": "Python 3 (ipykernel)",
   "language": "python",
   "name": "python3"
  },
  "language_info": {
   "codemirror_mode": {
    "name": "ipython",
    "version": 3
   },
   "file_extension": ".py",
   "mimetype": "text/x-python",
   "name": "python",
   "nbconvert_exporter": "python",
   "pygments_lexer": "ipython3",
   "version": "3.10.2"
  }
 },
 "nbformat": 4,
 "nbformat_minor": 5
}
