{
 "cells": [
  {
   "cell_type": "markdown",
   "id": "87ea082f-7bc4-481f-8191-7c441b6ef52e",
   "metadata": {},
   "source": [
    "# Import libraries"
   ]
  },
  {
   "cell_type": "code",
   "execution_count": 1,
   "id": "78472ebd-7375-43d1-9f09-907739ed72d7",
   "metadata": {},
   "outputs": [],
   "source": [
    "import cv2 as cv\n",
    "import numpy as np"
   ]
  },
  {
   "cell_type": "markdown",
   "id": "706eb195-1216-49cb-894a-b6fe6fc19c58",
   "metadata": {},
   "source": [
    "# Drawing Blue Circles on Black Screen by clicking Left Mouse button"
   ]
  },
  {
   "cell_type": "code",
   "execution_count": 4,
   "id": "23d52700-af17-46db-aebb-c5950f5a09c4",
   "metadata": {},
   "outputs": [],
   "source": [
    "# Function to draw a circle on left button click event\n",
    "def circle_shape(event, x, y, flagval, par):\n",
    "    if event == cv.EVENT_LBUTTONDOWN:\n",
    "        cv.circle(image_window, (x, y), 50, (255, 0, 0), -1)\n",
    "\n",
    "# Naming the window\n",
    "cv.namedWindow(winname=\"Image_Window\")\n",
    "\n",
    "# Connecting the mouse button to the callback function\n",
    "cv.setMouseCallback(\"Image_Window\", circle_shape)\n",
    "\n",
    "# Creating a black image\n",
    "image_window = np.zeros((1024, 1024, 3), np.uint8)\n",
    "\n",
    "while True: # Keep the block image window open untill we break with Esc key on keyboard\n",
    "    cv.imshow(\"Image_Window\", image_window)\n",
    "\n",
    "    if cv.waitKey(20) & 0xFF == 27:\n",
    "        break\n",
    "\n",
    "cv.destroyAllWindows()"
   ]
  },
  {
   "cell_type": "markdown",
   "id": "9de83358-e074-484d-8524-c761c863bce7",
   "metadata": {},
   "source": [
    "# Drawing Blue Circles on Black Screen by Left Button click & Red color circle by Right button click on Mouse"
   ]
  },
  {
   "cell_type": "code",
   "execution_count": 6,
   "id": "40988fcb-50f8-4a55-9834-03ba83201b69",
   "metadata": {},
   "outputs": [],
   "source": [
    "# Function to draw a circle on left button click event\n",
    "def circle_shape(event, x, y, flagval, par):\n",
    "    if event == cv.EVENT_LBUTTONDOWN:\n",
    "        cv.circle(image_window, (x, y), 50, (255, 0, 0), -1)\n",
    "    if event == cv.EVENT_RBUTTONDOWN:\n",
    "        cv.circle(image_window, (x, y), 50, (0, 0, 255), -1)\n",
    "\n",
    "# Naming the window\n",
    "cv.namedWindow(winname=\"Image_Window\")\n",
    "\n",
    "# Connecting the mouse button to the callback function\n",
    "cv.setMouseCallback(\"Image_Window\", circle_shape)\n",
    "\n",
    "# Creating a black image\n",
    "image_window = np.zeros((1024, 1024, 3), np.uint8)\n",
    "\n",
    "while True: # Keep the block image window open untill we break with Esc key on keyboard\n",
    "    cv.imshow(\"Image_Window\", image_window)\n",
    "\n",
    "    if cv.waitKey(20) & 0xFF == 27:\n",
    "        break\n",
    "\n",
    "cv.destroyAllWindows()"
   ]
  },
  {
   "cell_type": "code",
   "execution_count": null,
   "id": "11b605d7-2848-4a15-87da-df494c05a108",
   "metadata": {},
   "outputs": [],
   "source": []
  }
 ],
 "metadata": {
  "kernelspec": {
   "display_name": "Python 3 (ipykernel)",
   "language": "python",
   "name": "python3"
  },
  "language_info": {
   "codemirror_mode": {
    "name": "ipython",
    "version": 3
   },
   "file_extension": ".py",
   "mimetype": "text/x-python",
   "name": "python",
   "nbconvert_exporter": "python",
   "pygments_lexer": "ipython3",
   "version": "3.10.2"
  }
 },
 "nbformat": 4,
 "nbformat_minor": 5
}
