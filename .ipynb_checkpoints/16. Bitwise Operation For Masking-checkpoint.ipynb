{
 "cells": [
  {
   "cell_type": "markdown",
   "id": "715f9154-e717-41bb-b73d-876c7f6b58a9",
   "metadata": {},
   "source": [
    "# Import Libraries"
   ]
  },
  {
   "cell_type": "code",
   "execution_count": 1,
   "id": "0697187a-b939-49ba-8132-96e2b8b790b0",
   "metadata": {},
   "outputs": [],
   "source": [
    "import cv2 as cv\n",
    "import numpy as np\n",
    "import matplotlib.pyplot as plt"
   ]
  },
  {
   "cell_type": "code",
   "execution_count": 3,
   "id": "b50e0f3b-1f86-4f48-903c-d9df35f3db3e",
   "metadata": {},
   "outputs": [],
   "source": [
    "img1 = np.zeros((250, 500, 3), np.uint8)\n",
    "img1 = cv.rectangle(img1, (150, 100), (200, 250), (255, 255, 255), -1)\n",
    "\n",
    "img2 = np.zeros((250, 500, 3), np.uint8)\n",
    "img2 = cv.rectangle(img2, (10, 10), (170, 190), (255, 255, 255), -1)\n",
    "\n",
    "cv.imshow(\"img1\", img1)\n",
    "cv.imshow(\"img2\", img2)\n",
    "\n",
    "bitAnd = cv.bitwise_and(img2, img1)\n",
    "bitOr = cv.bitwise_or(img2, img1)\n",
    "bitNot1 = cv.bitwise_not(img1)\n",
    "bitNot2 = cv.bitwise_not(img2)\n",
    "bitXor = cv.bitwise_xor(img1, img2)\n",
    "\n",
    "cv.imshow('bitAnd', bitAnd)\n",
    "cv.imshow('bitOr', bitOr)\n",
    "cv.imshow('bitNot1', bitNot1)\n",
    "cv.imshow('bitNot2', bitNot2)\n",
    "cv.imshow('bitXor', bitXor)\n",
    "\n",
    "cv.waitKey(0)\n",
    "cv.destroyAllWindows()"
   ]
  },
  {
   "cell_type": "code",
   "execution_count": null,
   "id": "b51387d8-91e2-48d1-9750-5452d0c35a85",
   "metadata": {},
   "outputs": [],
   "source": []
  }
 ],
 "metadata": {
  "kernelspec": {
   "display_name": "Python 3 (ipykernel)",
   "language": "python",
   "name": "python3"
  },
  "language_info": {
   "codemirror_mode": {
    "name": "ipython",
    "version": 3
   },
   "file_extension": ".py",
   "mimetype": "text/x-python",
   "name": "python",
   "nbconvert_exporter": "python",
   "pygments_lexer": "ipython3",
   "version": "3.10.2"
  }
 },
 "nbformat": 4,
 "nbformat_minor": 5
}
