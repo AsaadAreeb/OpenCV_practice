{
 "cells": [
  {
   "cell_type": "markdown",
   "id": "72e810df-a6f3-4035-9d98-4ee84c2e2797",
   "metadata": {},
   "source": [
    "# Import Libraries"
   ]
  },
  {
   "cell_type": "code",
   "execution_count": 2,
   "id": "31784c80-de48-4466-8e9c-876b11de4b8b",
   "metadata": {},
   "outputs": [],
   "source": [
    "import cv2 as cv\n",
    "import numpy as np\n",
    "import matplotlib.pyplot as plt"
   ]
  },
  {
   "cell_type": "code",
   "execution_count": 3,
   "id": "b13f301d-f0a8-4e66-b584-96d8d1c449a5",
   "metadata": {},
   "outputs": [],
   "source": [
    "img = cv.imread(\"..\\data\\expert.png\", 0)\n",
    "img = cv.resize(img, (300, 300))\n",
    "\n",
    "# Simple threshold\n",
    "# simple threshold(img, pixel_thresh, _max_thresh_pixel, style)\n",
    "# it return 2 values - one is random data , second is threshold\n",
    "\n",
    "_, th1 = cv.threshold(img, 50, 255, cv.THRESH_BINARY)\n",
    "_, th2 = cv.threshold(img, 50, 255, cv.THRESH_BINARY_INV)\n",
    "_, th3 = cv.threshold(img, 127, 255, cv.THRESH_TRUNC)\n",
    "_, th4 = cv.threshold(img, 127, 255, cv.THRESH_TOZERO)\n",
    "\n",
    "cv.imshow(\"1 - THRESH_BINARY\", th1)\n",
    "cv.imshow(\"2 -THRESH_BINARY_INV\", th2)\n",
    "cv.imshow(\"3- THRESH_TRUNC\", th3)\n",
    "cv.imshow(\"4 - THRESH_TOZERO\", th4)\n",
    "cv.imshow(\"Original\", img)\n",
    "\n",
    "cv.waitKey(0)\n",
    "cv.destroyAllWindows()"
   ]
  },
  {
   "cell_type": "code",
   "execution_count": null,
   "id": "1cf1ae65-ce3e-4c72-afd6-de2650dda21a",
   "metadata": {},
   "outputs": [],
   "source": []
  }
 ],
 "metadata": {
  "kernelspec": {
   "display_name": "Python 3 (ipykernel)",
   "language": "python",
   "name": "python3"
  },
  "language_info": {
   "codemirror_mode": {
    "name": "ipython",
    "version": 3
   },
   "file_extension": ".py",
   "mimetype": "text/x-python",
   "name": "python",
   "nbconvert_exporter": "python",
   "pygments_lexer": "ipython3",
   "version": "3.10.2"
  }
 },
 "nbformat": 4,
 "nbformat_minor": 5
}
