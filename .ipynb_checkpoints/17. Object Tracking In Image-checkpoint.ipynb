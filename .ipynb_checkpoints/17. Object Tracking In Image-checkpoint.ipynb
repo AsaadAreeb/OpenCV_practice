{
 "cells": [
  {
   "cell_type": "markdown",
   "id": "a94c0c81-bf0f-41b8-b252-f59f66fd458a",
   "metadata": {},
   "source": [
    "# Import Libraries"
   ]
  },
  {
   "cell_type": "code",
   "execution_count": 1,
   "id": "1564a644-6681-47ac-a64c-d665c41deae5",
   "metadata": {},
   "outputs": [],
   "source": [
    "import cv2 as cv\n",
    "import numpy as np\n",
    "import matplotlib.pyplot as plt"
   ]
  },
  {
   "cell_type": "code",
   "execution_count": 2,
   "id": "a9f116a0-aecb-4408-8700-272a07636c45",
   "metadata": {},
   "outputs": [],
   "source": [
    "# HSV -  Hue saturation value\n",
    "# Hsv is use to separate image information on the basis of color luminous or intensity.\n",
    "# We use Hsv where we perform operation on the basis of color.\n",
    "\n",
    "# HSV related to hexaon color model\n",
    "# H - hue - use to select color from 360 portion\n",
    "# S - staturation is amount of color  which is selected in hue.(color shades)\n",
    "# V  -  value which is brightness of the color."
   ]
  },
  {
   "cell_type": "markdown",
   "id": "3d1557cb-31d7-4d2f-92e7-12a4dbd68043",
   "metadata": {},
   "source": [
    "# Static"
   ]
  },
  {
   "cell_type": "code",
   "execution_count": 3,
   "id": "878cdbba-072f-4ccc-8cd7-97b52dbbbf3c",
   "metadata": {},
   "outputs": [],
   "source": [
    "img = cv.imread(\"..\\data\\color_balls.jpeg\")\n",
    "\n",
    "while True:\n",
    "    imgHSV = cv.cvtColor(img, cv.COLOR_BGR2HSV)\n",
    "\n",
    "    l_v = np.array([110, 50, 50])\n",
    "    u_v = np.array([130, 235, 225])\n",
    "\n",
    "    mask = cv.inRange(imgHSV, l_v, u_v)\n",
    "    res = cv.bitwise_and(img, img, mask=mask)\n",
    "\n",
    "    cv.imshow(\"Original\", img)\n",
    "    cv.imshow(\"Mask\", mask)\n",
    "    cv.imshow(\"res\", res)\n",
    "    k = cv.waitKey(0)\n",
    "    if k == ord('q'):\n",
    "        break\n",
    "\n",
    "cv.destroyAllWindows()"
   ]
  },
  {
   "cell_type": "markdown",
   "id": "b6b103d4-0f5f-46b6-85dc-6541bd46581f",
   "metadata": {},
   "source": [
    "# Dynamic"
   ]
  },
  {
   "cell_type": "code",
   "execution_count": 3,
   "id": "c44aabee-287e-4175-a962-c45d49ca6004",
   "metadata": {},
   "outputs": [],
   "source": [
    "def stackImages(scale, imgArray):\n",
    "    # Determine the number of rows and columns\n",
    "    rows = len(imgArray)\n",
    "    cols = len(imgArray[0])\n",
    "\n",
    "    # Get the dimensions of the first image in the list\n",
    "    height, width, _ = imgArray[0][0].shape\n",
    "\n",
    "    # Resize and stack the images\n",
    "    stacked_rows = []\n",
    "    for row in imgArray:\n",
    "        stacked_cols = []\n",
    "        for img in row:\n",
    "            # Convert grayscale images to 3 channels\n",
    "            if len(img.shape) == 2:\n",
    "                img = cv.cvtColor(img, cv.COLOR_GRAY2BGR)\n",
    "            \n",
    "            resized_img = cv.resize(img, (int(width * scale), int(height * scale)))\n",
    "            stacked_cols.append(resized_img)\n",
    "        stacked_row = np.hstack(stacked_cols)\n",
    "        stacked_rows.append(stacked_row)\n",
    "    \n",
    "    stacked_image = np.vstack(stacked_rows)\n",
    "    \n",
    "    return stacked_image\n"
   ]
  },
  {
   "cell_type": "code",
   "execution_count": 2,
   "id": "22ffd10c-1f66-4d1b-9801-231a1e51299d",
   "metadata": {},
   "outputs": [],
   "source": [
    "def stackImages(scale, imgArray):\n",
    "    # Determine the number of rows and columns\n",
    "    rows = len(imgArray)\n",
    "    cols = len(imgArray[0])\n",
    "\n",
    "    # Get the dimensions of the first image in the list\n",
    "    height, width, _ = imgArray[0][0].shape\n",
    "\n",
    "    # Resize and stack the images\n",
    "    stacked_rows = []\n",
    "    for row in imgArray:\n",
    "        stacked_cols = []\n",
    "        for img in row:\n",
    "            resized_img = cv.resize(img, (int(width * scale), int(height * scale)))\n",
    "            stacked_cols.append(resized_img)\n",
    "        stacked_row = np.hstack(stacked_cols)\n",
    "        stacked_rows.append(stacked_row)\n",
    "    \n",
    "    stacked_image = np.vstack(stacked_rows)\n",
    "    \n",
    "    return stacked_image\n"
   ]
  },
  {
   "cell_type": "code",
   "execution_count": 4,
   "id": "835593f4-2ed7-485d-b542-dacf0f209960",
   "metadata": {},
   "outputs": [],
   "source": [
    "def stackImages(scale, image_list):\n",
    "    rows = len(image_list)\n",
    "    cols = len(image_list[0])\n",
    "\n",
    "    # Get the dimensions of the first image in the list\n",
    "    height, width = image_list[0][0].shape[:2]\n",
    "\n",
    "    # Create an empty canvas for stacking images\n",
    "    stacked_image = np.zeros((height * rows, width * cols, 3), dtype=np.uint8)\n",
    "\n",
    "    for i in range(rows):\n",
    "        for j in range(cols):\n",
    "            img = image_list[i][j]\n",
    "            img = cv.resize(img, (width, height))\n",
    "            stacked_image[i * height : (i + 1) * height, j * width : (j + 1) * width, :] = img\n",
    "\n",
    "    return stacked_image"
   ]
  },
  {
   "cell_type": "code",
   "execution_count": 4,
   "id": "5f4b960a-e957-4fc8-888c-0e888c6fcb55",
   "metadata": {},
   "outputs": [],
   "source": [
    "def empty(a):\n",
    "    pass\n",
    "\n",
    "\n",
    "cap = cv.VideoCapture(0)\n",
    "\n",
    "cv.namedWindow(\"TrackBars\")\n",
    "cv.resizeWindow(\"TrackBars\", 640, 240)\n",
    "\n",
    "cv.createTrackbar(\"Hue Min\", \"TrackBars\", 0, 255, empty)\n",
    "cv.createTrackbar(\"Hue Max\", \"TrackBars\", 255, 255, empty)\n",
    "cv.createTrackbar(\"Sat Min\", \"TrackBars\", 0, 255, empty)\n",
    "cv.createTrackbar(\"Sat Max\", \"TrackBars\", 255, 255, empty)\n",
    "cv.createTrackbar(\"Val Min\", \"TrackBars\", 0, 255, empty)\n",
    "cv.createTrackbar(\"Val Max\", \"TrackBars\", 255, 255, empty)\n",
    "\n",
    "while True:\n",
    "    _, img = cap.read()\n",
    "    img = cv.resize(img, (600, 400))\n",
    "\n",
    "    imgHSV = cv.cvtColor(img, cv.COLOR_BGR2HSV)\n",
    "\n",
    "    h_min = cv.getTrackbarPos(\"Hue Min\", \"TrackBars\")\n",
    "    h_max = cv.getTrackbarPos(\"Hue Max\", \"TrackBars\")\n",
    "    s_min = cv.getTrackbarPos(\"Sat Min\", \"TrackBars\")\n",
    "    s_max = cv.getTrackbarPos(\"Sat Max\", \"TrackBars\")\n",
    "    v_min = cv.getTrackbarPos(\"Val Min\", \"TrackBars\")\n",
    "    v_max = cv.getTrackbarPos(\"Val Max\", \"TrackBars\")\n",
    "\n",
    "    lower = np.array([h_min, s_min, v_min])\n",
    "    upper = np.array([h_max, s_max, v_max])\n",
    "\n",
    "    mask = cv.inRange(imgHSV, lower, upper)\n",
    "    imgResult = cv.bitwise_and(img, img, mask=mask)\n",
    "\n",
    "    cv.putText(img, \"Original\", (20, 50), cv.FONT_ITALIC,\n",
    "               2, (0, 125, 255), 2)\n",
    "\n",
    "    cv.putText(imgHSV, \"imgHSV\", (20, 50), cv.FONT_ITALIC,\n",
    "                2, (0, 125, 255), 2)\n",
    "\n",
    "    cv.putText(mask, \"mask\", (20, 50), cv.FONT_ITALIC,\n",
    "                2, (0, 125, 255), 2)\n",
    "\n",
    "    cv.putText(imgResult, \"imgResult\", (20, 50), cv.FONT_ITALIC,\n",
    "                2, (0, 125, 255), 2)\n",
    "\n",
    "    imgStack = stackImages(0.6, ([img, imgHSV], [mask, imgResult]))\n",
    "    cv.imshow(\"Stacked Images\", imgStack)\n",
    "\n",
    "    if cv.waitKey(1) & 0xFF == ord(\"q\"):\n",
    "        break\n",
    "\n",
    "cv.destroyAllWindows()"
   ]
  },
  {
   "cell_type": "code",
   "execution_count": null,
   "id": "1ce04793-0b9f-46fa-a7c7-0060be6c5165",
   "metadata": {},
   "outputs": [],
   "source": []
  }
 ],
 "metadata": {
  "kernelspec": {
   "display_name": "Python 3 (ipykernel)",
   "language": "python",
   "name": "python3"
  },
  "language_info": {
   "codemirror_mode": {
    "name": "ipython",
    "version": 3
   },
   "file_extension": ".py",
   "mimetype": "text/x-python",
   "name": "python",
   "nbconvert_exporter": "python",
   "pygments_lexer": "ipython3",
   "version": "3.10.2"
  }
 },
 "nbformat": 4,
 "nbformat_minor": 5
}
