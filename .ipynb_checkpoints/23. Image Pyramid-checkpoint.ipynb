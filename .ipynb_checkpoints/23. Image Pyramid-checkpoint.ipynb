{
 "cells": [
  {
   "cell_type": "markdown",
   "id": "cde6ce62-8df7-4223-ac24-7905ab1ec999",
   "metadata": {},
   "source": [
    "# Import Libraries"
   ]
  },
  {
   "cell_type": "code",
   "execution_count": 4,
   "id": "418818dc-1091-47f0-92aa-4ac4ff55a8f1",
   "metadata": {},
   "outputs": [],
   "source": [
    "import cv2 as cv\n",
    "import numpy as np\n",
    "import matplotlib.pyplot as plt"
   ]
  },
  {
   "cell_type": "code",
   "execution_count": 5,
   "id": "72b09bdf-6cdb-4f01-9d5c-d1bf7476cd64",
   "metadata": {},
   "outputs": [],
   "source": [
    "img = cv.imread(\"..\\data\\expert.png\")\n",
    "img = cv.resize(img, (500, 500))"
   ]
  },
  {
   "cell_type": "markdown",
   "id": "983912d3-cdea-4e6f-bb28-5273be2e4ccf",
   "metadata": {},
   "source": [
    "# Gaussian Pyramid Have 2 functions:\n",
    "`1) cv2.pyrUp()`\n",
    "\n",
    "`2) cv2.pyrDown()`"
   ]
  },
  {
   "cell_type": "code",
   "execution_count": 6,
   "id": "2116a135-6eae-4e9c-a7fa-0bf4745bd80e",
   "metadata": {},
   "outputs": [],
   "source": [
    "# pyrDown\n",
    "pd1 = cv.pyrDown(img)\n",
    "pd2 = cv.pyrDown(pd1)"
   ]
  },
  {
   "cell_type": "code",
   "execution_count": 7,
   "id": "996f93a5-f533-452d-97e9-a70244a1c04a",
   "metadata": {},
   "outputs": [],
   "source": [
    "# pyrUp\n",
    "# if we pyrUp any pyrDown image both are not equal\n",
    "pu1 = cv.pyrUp(pd2)"
   ]
  },
  {
   "cell_type": "code",
   "execution_count": 8,
   "id": "d192a74a-3916-457b-bbfd-0bb1aaa84fd3",
   "metadata": {},
   "outputs": [],
   "source": [
    "cv.imshow(\"original==\", img)\n",
    "cv.imshow(\"pd1==\", pd1)\n",
    "cv.imshow(\"pd2==\", pd2)\n",
    "cv.imshow(\"pu1==\", pu1)\n",
    "\n",
    "cv.waitKey(0)\n",
    "cv.destroyAllWindows()"
   ]
  },
  {
   "cell_type": "code",
   "execution_count": null,
   "id": "ba4620fc-81f9-499e-ae23-dc07564ebd71",
   "metadata": {},
   "outputs": [],
   "source": []
  }
 ],
 "metadata": {
  "kernelspec": {
   "display_name": "Python 3 (ipykernel)",
   "language": "python",
   "name": "python3"
  },
  "language_info": {
   "codemirror_mode": {
    "name": "ipython",
    "version": 3
   },
   "file_extension": ".py",
   "mimetype": "text/x-python",
   "name": "python",
   "nbconvert_exporter": "python",
   "pygments_lexer": "ipython3",
   "version": "3.10.2"
  }
 },
 "nbformat": 4,
 "nbformat_minor": 5
}
