{
 "cells": [
  {
   "cell_type": "markdown",
   "id": "226d0a66-f6e6-4ead-b46f-80dd86c72a55",
   "metadata": {},
   "source": [
    "# Import libraries"
   ]
  },
  {
   "cell_type": "code",
   "execution_count": 1,
   "id": "b893e015-d1dc-4274-a630-f9c9243360b8",
   "metadata": {},
   "outputs": [],
   "source": [
    "import cv2 as cv\n",
    "import numpy as np"
   ]
  },
  {
   "cell_type": "markdown",
   "id": "49f4296a-f51d-4e3c-9cce-4119fe3ec14b",
   "metadata": {},
   "source": [
    "# Read/load Imput image"
   ]
  },
  {
   "cell_type": "code",
   "execution_count": 2,
   "id": "4860c50e-92f3-4a2b-845e-33888093f018",
   "metadata": {},
   "outputs": [],
   "source": [
    "input_image = cv.imread(\"..\\data\\RGB-image-consisting-of-three-layers.png\")\n",
    "cv.imshow(\"Original Image\", input_image)\n",
    "\n",
    "cv.waitKey(10000)\n",
    "cv.destroyAllWindows()"
   ]
  },
  {
   "cell_type": "code",
   "execution_count": 4,
   "id": "14ff426c-f153-416c-828b-77ffd131348e",
   "metadata": {},
   "outputs": [],
   "source": [
    "# Extract height and width from image\n",
    "h, w = input_image.shape[:2]\n",
    "\n",
    "# Divided h, w by 2 to rotate the image around its center\n",
    "rotation_mat_R = cv.getRotationMatrix2D((w/2, h/2), 45, .5)\n",
    "\n",
    "rotation_image_output = cv.warpAffine(input_image, rotation_mat_R, (w, h))\n",
    "\n",
    "cv.imshow(\"Rotated_image\", rotation_image_output)\n",
    "\n",
    "cv.waitKey(10000)\n",
    "cv.destroyAllWindows()"
   ]
  },
  {
   "cell_type": "markdown",
   "id": "afe7b41a-f5e5-4d31-89d6-394bce777b63",
   "metadata": {},
   "source": [
    "# Horizontal Flip"
   ]
  },
  {
   "cell_type": "code",
   "execution_count": 7,
   "id": "8709f250-ea09-46d3-ab50-e7a3c4fe5fcf",
   "metadata": {},
   "outputs": [],
   "source": [
    "flipped = cv.flip(input_image, 1)\n",
    "cv.imshow(\"Horizontal Flip\", flipped)\n",
    "\n",
    "cv.waitKey(10000)\n",
    "cv.destroyAllWindows()"
   ]
  },
  {
   "cell_type": "markdown",
   "id": "7b3b0799-bbed-434d-a438-9b82438ef20d",
   "metadata": {},
   "source": [
    "# Vertical Flip"
   ]
  },
  {
   "cell_type": "code",
   "execution_count": 6,
   "id": "ecfa8730-b2e1-4f00-ba5c-f4725eb953a1",
   "metadata": {},
   "outputs": [],
   "source": [
    "flipped = cv.flip(input_image, 0)\n",
    "cv.imshow(\"Vertical Flip\", flipped)\n",
    "\n",
    "cv.waitKey(10000)\n",
    "cv.destroyAllWindows()"
   ]
  },
  {
   "cell_type": "code",
   "execution_count": null,
   "id": "8de94537-8657-4927-8bc5-0c455bc1e745",
   "metadata": {},
   "outputs": [],
   "source": []
  }
 ],
 "metadata": {
  "kernelspec": {
   "display_name": "Python 3 (ipykernel)",
   "language": "python",
   "name": "python3"
  },
  "language_info": {
   "codemirror_mode": {
    "name": "ipython",
    "version": 3
   },
   "file_extension": ".py",
   "mimetype": "text/x-python",
   "name": "python",
   "nbconvert_exporter": "python",
   "pygments_lexer": "ipython3",
   "version": "3.10.2"
  }
 },
 "nbformat": 4,
 "nbformat_minor": 5
}
