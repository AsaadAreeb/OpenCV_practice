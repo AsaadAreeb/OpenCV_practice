{
 "cells": [
  {
   "cell_type": "markdown",
   "id": "a4d18bdd-9019-4f69-aa25-ec3a149a95d1",
   "metadata": {},
   "source": [
    "# Import Libraries"
   ]
  },
  {
   "cell_type": "code",
   "execution_count": 1,
   "id": "ae329a21-f17d-4699-a005-ac3fc04a12fa",
   "metadata": {},
   "outputs": [],
   "source": [
    "import cv2 as cv\n",
    "import numpy as np\n",
    "import matplotlib.pyplot as plt"
   ]
  },
  {
   "cell_type": "code",
   "execution_count": 3,
   "id": "b8e78875-3865-4ffc-bee8-a4458d4a8de7",
   "metadata": {},
   "outputs": [],
   "source": [
    "img = cv.imread(\"..\\data\\wall.jpg\")\n",
    "\n",
    "img = cv.resize(img, (600, 700))\n",
    "img_gray = cv.cvtColor(img, cv.COLOR_BGR2GRAY)\n",
    "\n",
    "# canny(img, thresh1, thres2)  thresh 1 and thresh2 at different lvl\n",
    "canny = cv.Canny(img_gray, 10, 30)\n",
    "\n",
    "cv.imshow(\"original==\", img)\n",
    "cv.imshow(\"gray==\", img_gray)\n",
    "cv.imshow(\"canny==\", canny)\n",
    "\n",
    "cv.waitKey(0)\n",
    "cv.destroyAllWindows()"
   ]
  },
  {
   "cell_type": "code",
   "execution_count": null,
   "id": "d71f8d67-6342-46ab-b5c3-8ef11fd96dfe",
   "metadata": {},
   "outputs": [],
   "source": []
  }
 ],
 "metadata": {
  "kernelspec": {
   "display_name": "Python 3 (ipykernel)",
   "language": "python",
   "name": "python3"
  },
  "language_info": {
   "codemirror_mode": {
    "name": "ipython",
    "version": 3
   },
   "file_extension": ".py",
   "mimetype": "text/x-python",
   "name": "python",
   "nbconvert_exporter": "python",
   "pygments_lexer": "ipython3",
   "version": "3.10.2"
  }
 },
 "nbformat": 4,
 "nbformat_minor": 5
}
