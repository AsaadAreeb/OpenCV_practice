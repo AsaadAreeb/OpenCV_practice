{
 "cells": [
  {
   "cell_type": "markdown",
   "id": "9dd42519-fc2e-438f-a998-1b3abe605ba6",
   "metadata": {},
   "source": [
    "# Import Libraries"
   ]
  },
  {
   "cell_type": "code",
   "execution_count": 14,
   "id": "4a2f5ebe-d067-4252-8968-dfcde869d44b",
   "metadata": {},
   "outputs": [],
   "source": [
    "import cv2 as cv\n",
    "import numpy as np\n",
    "import matplotlib.pyplot as plt"
   ]
  },
  {
   "cell_type": "code",
   "execution_count": 15,
   "id": "1532eeed-883b-42a9-8eac-d088ecf1c0e7",
   "metadata": {},
   "outputs": [],
   "source": [
    "img = cv.imread('..\\data\\expert.png')\n",
    "img = cv.resize(img, (400,400))\n",
    "\n",
    "# convert gray\n",
    "gray = cv.cvtColor(img, cv.COLOR_BGR2GRAY)\n",
    "\n",
    "# edge detect\n",
    "edges = cv.Canny(gray, 10, 200, apertureSize = 3)"
   ]
  },
  {
   "cell_type": "markdown",
   "id": "907be53e-6e40-4ff4-bb21-0831da0e4bb4",
   "metadata": {},
   "source": [
    "# Hough method"
   ]
  },
  {
   "cell_type": "markdown",
   "id": "f4aaa3d1-1d80-4179-a9cf-54780d7b797f",
   "metadata": {},
   "source": [
    "# 1st method (cv.HoughLines()) Not Used Very much\n",
    "\n",
    "`function accept parameters (img, rho, theta)`\n",
    "\n",
    "`rho value -- distance resolution of pixels`\n",
    "\n",
    "`thetha - angle resolution`\n",
    "\n",
    "`line threshold`"
   ]
  },
  {
   "cell_type": "code",
   "execution_count": 12,
   "id": "cf9f8d24-7143-4804-8bfd-c3dc35c8185e",
   "metadata": {},
   "outputs": [],
   "source": [
    "lines = cv.HoughLines(edges, 1, np.pi/180, 200)\n",
    "\n",
    "for rho,theta in lines[0]:\n",
    "    a = np.cos(theta)\n",
    "    b = np.sin(theta)\n",
    "    x0 = a*rho\n",
    "    y0 = b*rho\n",
    "    x1 = int(x0 + 1000*(-b))\n",
    "    y1 = int(y0 + 1000*(a))\n",
    "    x2 = int(x0 - 1000*(-b))\n",
    "    y2 = int(y0 - 1000*(a))\n",
    "    cv.line(img, (x1, y1), (x2, y2), (255, 0, 255), 2)"
   ]
  },
  {
   "cell_type": "markdown",
   "id": "1b15c7be-8287-4707-84e7-17fc21899808",
   "metadata": {},
   "source": [
    "# 2nd Method (cv2.HoughLinesP()) Used heavily"
   ]
  },
  {
   "cell_type": "code",
   "execution_count": 16,
   "id": "ea904900-8521-4352-a718-70b1bd922dcb",
   "metadata": {},
   "outputs": [],
   "source": [
    "linesp = cv.HoughLinesP(edges, 1, np.pi/180, 100, minLineLength=8,\n",
    "                        maxLineGap=100)\n",
    "\n",
    "for line in linesp:\n",
    "    x1, y1, x2, y2 = line[0]\n",
    "    cv.line(img, (x1,y1), (x2,y2), (100,200,125), 2)"
   ]
  },
  {
   "cell_type": "code",
   "execution_count": 17,
   "id": "a5672898-b5a0-484d-8be7-24dcf05e294e",
   "metadata": {},
   "outputs": [],
   "source": [
    "cv.imshow(\"lines\", img)\n",
    "cv.imshow(\"edge\", edges)\n",
    "\n",
    "cv.waitKey(0)\n",
    "cv.destroyAllWindows()"
   ]
  },
  {
   "cell_type": "code",
   "execution_count": null,
   "id": "b36da3b4-132a-41e4-b14b-45968ca50a6a",
   "metadata": {},
   "outputs": [],
   "source": []
  }
 ],
 "metadata": {
  "kernelspec": {
   "display_name": "Python 3 (ipykernel)",
   "language": "python",
   "name": "python3"
  },
  "language_info": {
   "codemirror_mode": {
    "name": "ipython",
    "version": 3
   },
   "file_extension": ".py",
   "mimetype": "text/x-python",
   "name": "python",
   "nbconvert_exporter": "python",
   "pygments_lexer": "ipython3",
   "version": "3.10.2"
  }
 },
 "nbformat": 4,
 "nbformat_minor": 5
}
