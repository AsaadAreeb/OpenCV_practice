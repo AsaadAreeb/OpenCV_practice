{
 "cells": [
  {
   "cell_type": "markdown",
   "id": "b2d4b607-9494-426d-91ff-e408bb125079",
   "metadata": {},
   "source": [
    "# Import Libraries"
   ]
  },
  {
   "cell_type": "code",
   "execution_count": 2,
   "id": "07c70558-3e2c-4275-a478-50eec278a1cf",
   "metadata": {},
   "outputs": [],
   "source": [
    "import cv2 as cv\n",
    "import numpy as np\n",
    "import matplotlib.pyplot as plt"
   ]
  },
  {
   "cell_type": "code",
   "execution_count": null,
   "id": "b091aaee-51a9-4dfa-bafd-f52b27815f0c",
   "metadata": {},
   "outputs": [],
   "source": [
    "img1 = cv.imread(\"..\\data\\images.jpeg\")\n",
    "img1 = cv.resize(img1,(500,700))\n",
    "img2 = cv.imread(\"..\\data\\images.jpeg\")\n",
    "img2 = cv.resize(img2,(500,700))\n",
    "\n",
    "\n",
    "# simple blending not suitable\n",
    "result = img2 + img1\n",
    "\n",
    "# recommended to use cv2.add\n",
    "result1 = cv.add(img1, img2)\n",
    "\n",
    "# function cv.addWeighted(img1, wt1, img2, wt2, gama_val)\n",
    "# weight  = w1 + w2 = 1(max)\n",
    "result2 = cv.addWeighted(img1, 0.5, img2, 0.5, 0)\n",
    "\n",
    "cv.imshow(\"result==\", result)\n",
    "cv.imshow(\"result1==\", result1)\n",
    "cv.imshow(\"result2==\", result2)\n",
    "\n",
    "cv.waitKey(0)\n",
    "cv.destroyAllWindows()"
   ]
  },
  {
   "cell_type": "code",
   "execution_count": null,
   "id": "5224ca43-a319-4ae8-8982-f43af4b4e8db",
   "metadata": {},
   "outputs": [],
   "source": []
  }
 ],
 "metadata": {
  "kernelspec": {
   "display_name": "Python 3 (ipykernel)",
   "language": "python",
   "name": "python3"
  },
  "language_info": {
   "codemirror_mode": {
    "name": "ipython",
    "version": 3
   },
   "file_extension": ".py",
   "mimetype": "text/x-python",
   "name": "python",
   "nbconvert_exporter": "python",
   "pygments_lexer": "ipython3",
   "version": "3.10.2"
  }
 },
 "nbformat": 4,
 "nbformat_minor": 5
}
