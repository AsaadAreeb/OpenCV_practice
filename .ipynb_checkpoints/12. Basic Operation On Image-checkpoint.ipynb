{
 "cells": [
  {
   "cell_type": "markdown",
   "id": "22461743-13f6-41df-a810-dacaed317c4d",
   "metadata": {},
   "source": [
    "# Import Libraries"
   ]
  },
  {
   "cell_type": "code",
   "execution_count": 2,
   "id": "190d0493-d63a-49b7-b7e4-a9730241a78f",
   "metadata": {},
   "outputs": [],
   "source": [
    "import cv2 as cv\n",
    "import numpy as np\n",
    "import matplotlib.pyplot as plt"
   ]
  },
  {
   "cell_type": "markdown",
   "id": "00b83b2c-8878-4037-a6c1-a136992eaf3c",
   "metadata": {},
   "source": [
    "# Size"
   ]
  },
  {
   "cell_type": "code",
   "execution_count": 8,
   "id": "22c07b51-91a8-426b-8d29-5779e20cb332",
   "metadata": {},
   "outputs": [
    {
     "name": "stdout",
     "output_type": "stream",
     "text": [
      "shape== (400, 600, 3)\n",
      "no.of pixels== 720000\n",
      "datatype== uint8\n",
      "Imagetype== <class 'numpy.ndarray'>\n"
     ]
    }
   ],
   "source": [
    "img = cv.imread(\"..\\data\\images.jpeg\")\n",
    "img = cv.resize(img, (600, 400))\n",
    "# cv.imshow(\"image\", img)\n",
    "\n",
    "print(\"shape==\", img.shape) #returns a tuple of number of (rows, columns, channels)\n",
    "print(\"no.of pixels==\", img.size) #returns Total number of pixels\n",
    "print(\"datatype==\", img.dtype) #returns Image datatype\n",
    "print(\"Imagetype==\", type(img))\n"
   ]
  },
  {
   "cell_type": "markdown",
   "id": "eee4df6a-1301-4fc3-8fe7-fc7ad76262e4",
   "metadata": {},
   "source": [
    "# Split"
   ]
  },
  {
   "cell_type": "code",
   "execution_count": null,
   "id": "81f5a0c6-bc24-48f4-92a6-4018b36c9f94",
   "metadata": {},
   "outputs": [],
   "source": [
    "# Now try to split an image\n",
    "# split  -  return 3 channel of image which is blue, green, red\n",
    "# print(cv.split(img))\n",
    "b, g, r = cv.split(img)\n",
    "\n",
    "# cv.imshow(\"blue\", b)\n",
    "# cv.imshow(\"green\", g)\n",
    "# cv.imshow(\"red\", r)"
   ]
  },
  {
   "cell_type": "markdown",
   "id": "424adb5b-ab14-494a-a063-6a2f27b9d957",
   "metadata": {},
   "source": [
    "# Merge"
   ]
  },
  {
   "cell_type": "code",
   "execution_count": 9,
   "id": "0a86ecfd-d04f-426e-9bcc-bfc4196fc734",
   "metadata": {},
   "outputs": [],
   "source": [
    "# Now if you want to mix the the channels then use merg\n",
    "mr1 = cv.merge((r, g, b))\n",
    "cv.imshow(\"rgb\", mr1)\n",
    "\n",
    "mr2 = cv.merge((b, g, r))\n",
    "cv.imshow(\"bgr\", mr2)\n",
    "\n",
    "cv.waitKey(0)\n",
    "cv.destroyAllWindows()"
   ]
  },
  {
   "cell_type": "code",
   "execution_count": null,
   "id": "0ae66504-48f0-4275-adf8-e616fff5ec19",
   "metadata": {},
   "outputs": [],
   "source": []
  }
 ],
 "metadata": {
  "kernelspec": {
   "display_name": "Python 3 (ipykernel)",
   "language": "python",
   "name": "python3"
  },
  "language_info": {
   "codemirror_mode": {
    "name": "ipython",
    "version": 3
   },
   "file_extension": ".py",
   "mimetype": "text/x-python",
   "name": "python",
   "nbconvert_exporter": "python",
   "pygments_lexer": "ipython3",
   "version": "3.10.2"
  }
 },
 "nbformat": 4,
 "nbformat_minor": 5
}
