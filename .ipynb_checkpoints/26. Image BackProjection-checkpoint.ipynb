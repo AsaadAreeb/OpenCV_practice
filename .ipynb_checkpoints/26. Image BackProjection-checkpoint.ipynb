{
 "cells": [
  {
   "cell_type": "markdown",
   "id": "0fcef001-2b41-4144-a001-b469386d841a",
   "metadata": {},
   "source": [
    "# Import Libraries"
   ]
  },
  {
   "cell_type": "code",
   "execution_count": 1,
   "id": "7cbd78e5-2dbc-42ac-969b-ca5983160055",
   "metadata": {},
   "outputs": [],
   "source": [
    "import cv2 as cv\n",
    "import numpy as np\n",
    "import matplotlib.pyplot as plt"
   ]
  },
  {
   "cell_type": "code",
   "execution_count": 2,
   "id": "9f696bee-a022-426e-806f-084783317c18",
   "metadata": {},
   "outputs": [],
   "source": [
    "original_image = cv.imread(\"..\\data\\expert.png\")\n",
    "original_image = cv.resize(original_image, (200, 300))\n",
    "hsv_original = cv.cvtColor(original_image, cv.COLOR_BGR2HSV)\n",
    "\n",
    "roi = cv.imread(\"..\\data\\lambo.png\")\n",
    "hsv_roi = cv.cvtColor(roi, cv.COLOR_BGR2HSV)\n",
    "\n",
    "# Histogram ROI\n",
    "roi_hist = cv.calcHist([hsv_roi], [0, 1], None, [180, 256], [0, 180, 0, 256])\n",
    "mask = cv.calcBackProject([hsv_original], [0, 1], roi_hist, [0, 180, 0, 256], 1)\n",
    "\n",
    "# Filtering remove noise\n",
    "kernel = cv.getStructuringElement(cv.MORPH_ELLIPSE, (5, 5))  # predefine\n",
    "mask = cv.filter2D(mask, -1, kernel)\n",
    "_, mask = cv.threshold(mask, 200, 255, cv.THRESH_BINARY)\n",
    "\n",
    "mask = cv.merge((mask, mask, mask))\n",
    "result = cv.bitwise_or(original_image, mask)\n",
    "\n",
    "cv.imshow(\"Original image\", original_image)\n",
    "cv.imshow(\"Mask\", mask)\n",
    "cv.imshow(\"Result\", result)\n",
    "cv.imshow(\"Roi\", hsv_original)\n",
    "\n",
    "cv.waitKey(0)\n",
    "cv.destroyAllWindows()"
   ]
  },
  {
   "cell_type": "code",
   "execution_count": null,
   "id": "25d77f8a-4fa4-4188-9620-254edb8654f0",
   "metadata": {},
   "outputs": [],
   "source": []
  }
 ],
 "metadata": {
  "kernelspec": {
   "display_name": "Python 3 (ipykernel)",
   "language": "python",
   "name": "python3"
  },
  "language_info": {
   "codemirror_mode": {
    "name": "ipython",
    "version": 3
   },
   "file_extension": ".py",
   "mimetype": "text/x-python",
   "name": "python",
   "nbconvert_exporter": "python",
   "pygments_lexer": "ipython3",
   "version": "3.10.2"
  }
 },
 "nbformat": 4,
 "nbformat_minor": 5
}
