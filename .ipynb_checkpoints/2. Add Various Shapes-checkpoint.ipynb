{
 "cells": [
  {
   "cell_type": "markdown",
   "id": "8d95438d-08c7-4ed5-b5a2-57b9f0314497",
   "metadata": {},
   "source": [
    "# Import libraries"
   ]
  },
  {
   "cell_type": "code",
   "execution_count": 1,
   "id": "4e0552eb-6425-4652-9e12-09bcc86dc663",
   "metadata": {},
   "outputs": [],
   "source": [
    "import cv2 as cv\n",
    "import numpy as np"
   ]
  },
  {
   "cell_type": "markdown",
   "id": "064acb23-df97-492c-a779-78c25634d9eb",
   "metadata": {},
   "source": [
    "# Drawing Line on a black image"
   ]
  },
  {
   "cell_type": "code",
   "execution_count": 10,
   "id": "2f115512-f571-4c2d-b43a-af7148431704",
   "metadata": {},
   "outputs": [],
   "source": [
    "# Image\n",
    "black_image = np.zeros((512, 512, 3), np.uint8)\n",
    "\n",
    "# Draw Line\n",
    "cv.line(black_image, (1, 1), (250, 250), (255, 255, 0), 4)\n",
    "cv.imshow(\"Bright Line\", black_image)\n",
    "\n",
    "cv.waitKey(10000)\n",
    "cv.destroyAllWindows()"
   ]
  },
  {
   "cell_type": "markdown",
   "id": "a7891fe1-a52c-4632-ba06-567af09ce518",
   "metadata": {},
   "source": [
    "# Draw a Circle on black image"
   ]
  },
  {
   "cell_type": "code",
   "execution_count": 12,
   "id": "e8f03557-9e58-4233-9d4b-bf560d0eedfc",
   "metadata": {},
   "outputs": [],
   "source": [
    "# Image\n",
    "black_image = np.zeros((512, 512, 3), np.uint8)\n",
    "\n",
    "# Draw circle\n",
    "cv.circle(black_image, (250, 250), 100, (255, 0, 0), 4)\n",
    "cv.imshow(\"Circle\", black_image)\n",
    "\n",
    "cv.waitKey(10000)\n",
    "cv.destroyAllWindows()"
   ]
  },
  {
   "cell_type": "markdown",
   "id": "f18cc353-3443-4a78-bcfc-d9f0998798f0",
   "metadata": {},
   "source": [
    "# Draw a Rectangle on black image"
   ]
  },
  {
   "cell_type": "code",
   "execution_count": 15,
   "id": "17c64563-704f-425c-9077-8d3de09cecc9",
   "metadata": {},
   "outputs": [],
   "source": [
    "# Image\n",
    "black_image = np.zeros((512, 512, 3), np.uint8)\n",
    "\n",
    "# Draw Rectangle\n",
    "cv.rectangle(black_image, (150, 150), (250, 250), (255, 0, 0), -1)\n",
    "cv.imshow(\"Rectangle\", black_image)\n",
    "\n",
    "cv.waitKey(10000)\n",
    "cv.destroyAllWindows()"
   ]
  },
  {
   "cell_type": "code",
   "execution_count": null,
   "id": "469adee0-0010-4b5f-b2e0-04d27727e8d0",
   "metadata": {},
   "outputs": [],
   "source": []
  }
 ],
 "metadata": {
  "kernelspec": {
   "display_name": "Python 3 (ipykernel)",
   "language": "python",
   "name": "python3"
  },
  "language_info": {
   "codemirror_mode": {
    "name": "ipython",
    "version": 3
   },
   "file_extension": ".py",
   "mimetype": "text/x-python",
   "name": "python",
   "nbconvert_exporter": "python",
   "pygments_lexer": "ipython3",
   "version": "3.10.2"
  }
 },
 "nbformat": 4,
 "nbformat_minor": 5
}
