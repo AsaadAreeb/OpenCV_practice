{
 "cells": [
  {
   "cell_type": "markdown",
   "id": "37ce4183-fe9f-4716-b8bb-2c02c547d7a4",
   "metadata": {},
   "source": [
    "# import libraries"
   ]
  },
  {
   "cell_type": "code",
   "execution_count": 1,
   "id": "3f632398-3c53-4cf1-ad36-5c4f45a910a3",
   "metadata": {},
   "outputs": [],
   "source": [
    "import cv2 as cv\n",
    "import numpy as np"
   ]
  },
  {
   "cell_type": "markdown",
   "id": "ad05bb2c-0053-4f62-ad8d-58aca67b36cc",
   "metadata": {},
   "source": [
    "# Load image"
   ]
  },
  {
   "cell_type": "code",
   "execution_count": 2,
   "id": "391779f4-8125-4276-be12-d5251102651e",
   "metadata": {},
   "outputs": [],
   "source": [
    "image = cv.imread(\"..\\data\\images.jpeg\")"
   ]
  },
  {
   "cell_type": "markdown",
   "id": "92a156b0-fd6f-4780-b51a-e76830c1d9e7",
   "metadata": {},
   "source": [
    "# Image shape"
   ]
  },
  {
   "cell_type": "code",
   "execution_count": 3,
   "id": "f96caba3-ad5f-4311-b61b-96cea41337bd",
   "metadata": {},
   "outputs": [
    {
     "name": "stdout",
     "output_type": "stream",
     "text": [
      "(168, 300, 3)\n"
     ]
    }
   ],
   "source": [
    "print(image.shape)"
   ]
  },
  {
   "cell_type": "markdown",
   "id": "68735578-1a1e-43c8-b891-b5b2b8bbfe95",
   "metadata": {},
   "source": [
    "# Showing image at window"
   ]
  },
  {
   "cell_type": "code",
   "execution_count": 5,
   "id": "7419378c-284b-4ffc-a935-d26c5db5ef3e",
   "metadata": {},
   "outputs": [],
   "source": [
    "cv.imshow(\"Image\", image)\n",
    "cv.waitKey(6000)\n",
    "cv.destroyAllWindows()"
   ]
  },
  {
   "cell_type": "markdown",
   "id": "f119aed7-613a-435e-abc2-9eefe2e8e102",
   "metadata": {},
   "source": [
    "# Show image at Grayscale"
   ]
  },
  {
   "cell_type": "code",
   "execution_count": 6,
   "id": "6b0dcd76-f57d-49eb-805d-4e22a0e6449f",
   "metadata": {},
   "outputs": [],
   "source": [
    "image = cv.imread(\"..\\data\\images.jpeg\", 0)\n",
    "cv.imshow(\"Image\", image)\n",
    "cv.waitKey(6000)\n",
    "cv.destroyAllWindows()"
   ]
  },
  {
   "cell_type": "code",
   "execution_count": 7,
   "id": "11d222e6-cd0f-4002-b905-d15402cc6ed8",
   "metadata": {},
   "outputs": [
    {
     "data": {
      "text/plain": [
       "True"
      ]
     },
     "execution_count": 7,
     "metadata": {},
     "output_type": "execute_result"
    }
   ],
   "source": [
    "cv.imwrite(\"..\\data\\images_gray.jpeg\", image)"
   ]
  },
  {
   "cell_type": "code",
   "execution_count": null,
   "id": "b570830b-35e2-4a3b-bf1b-caaa99c140f4",
   "metadata": {},
   "outputs": [],
   "source": []
  }
 ],
 "metadata": {
  "kernelspec": {
   "display_name": "Python 3 (ipykernel)",
   "language": "python",
   "name": "python3"
  },
  "language_info": {
   "codemirror_mode": {
    "name": "ipython",
    "version": 3
   },
   "file_extension": ".py",
   "mimetype": "text/x-python",
   "name": "python",
   "nbconvert_exporter": "python",
   "pygments_lexer": "ipython3",
   "version": "3.10.2"
  }
 },
 "nbformat": 4,
 "nbformat_minor": 5
}
