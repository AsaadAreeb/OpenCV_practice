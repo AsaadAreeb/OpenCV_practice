{
 "cells": [
  {
   "cell_type": "markdown",
   "id": "114bf847-a17e-4045-b78c-1fe6cf9908ca",
   "metadata": {},
   "source": [
    "# Import libraries"
   ]
  },
  {
   "cell_type": "code",
   "execution_count": 1,
   "id": "f73ae5c9-0d27-4dd3-be27-36e132994d76",
   "metadata": {},
   "outputs": [],
   "source": [
    "import cv2 as cv\n",
    "import numpy as np"
   ]
  },
  {
   "cell_type": "markdown",
   "id": "a036c265-853e-46eb-a6be-6827ca6b5b92",
   "metadata": {},
   "source": [
    "# Read/load Imput image"
   ]
  },
  {
   "cell_type": "code",
   "execution_count": 3,
   "id": "0e19cb2c-1ede-4c24-8680-3332346c0491",
   "metadata": {},
   "outputs": [],
   "source": [
    "input_image = cv.imread('..\\data\\image-7.png')\n",
    "cv.imshow('Orginal Image', input_image )\n",
    "\n",
    "cv.waitKey(5000)\n",
    "cv.destroyAllWindows()"
   ]
  },
  {
   "cell_type": "code",
   "execution_count": 4,
   "id": "dca656b6-b813-444c-aca6-8a92c02e780e",
   "metadata": {},
   "outputs": [
    {
     "name": "stdout",
     "output_type": "stream",
     "text": [
      "661 940\n",
      "===========\n",
      "[[  1.     0.   165.25]\n",
      " [  0.     1.   235.  ]]\n"
     ]
    }
   ],
   "source": [
    "h, w = input_image.shape[:2]\n",
    "print(h, w)\n",
    "print(\"===========\")\n",
    "\n",
    "# Translate the height and width of the image to 1/4\n",
    "height_fourth, width_fourth = h/4, w/4\n",
    "\n",
    "# Translation matrix T\n",
    "T = np.float32([[1, 0, height_fourth], [0, 1, width_fourth]])\n",
    "\n",
    "# Printing the value of translation matrix\n",
    "print(T)\n",
    "\n",
    "# Using warpAffine to transform the image using the translation matrix T\n",
    "translation = cv.warpAffine(input_image, T, (w, h))\n",
    "\n",
    "cv.imshow(\"Translation\", translation)\n",
    "\n",
    "cv.waitKey(10000)\n",
    "cv.destroyAllWindows()"
   ]
  },
  {
   "cell_type": "code",
   "execution_count": null,
   "id": "3a4051f5-b293-46ae-927b-de8d07b1d8df",
   "metadata": {},
   "outputs": [],
   "source": []
  }
 ],
 "metadata": {
  "kernelspec": {
   "display_name": "Python 3 (ipykernel)",
   "language": "python",
   "name": "python3"
  },
  "language_info": {
   "codemirror_mode": {
    "name": "ipython",
    "version": 3
   },
   "file_extension": ".py",
   "mimetype": "text/x-python",
   "name": "python",
   "nbconvert_exporter": "python",
   "pygments_lexer": "ipython3",
   "version": "3.10.2"
  }
 },
 "nbformat": 4,
 "nbformat_minor": 5
}
