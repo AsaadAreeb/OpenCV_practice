{
 "cells": [
  {
   "cell_type": "markdown",
   "id": "cae79079-ae57-42e6-bb75-3322deb539da",
   "metadata": {},
   "source": [
    "# Import libraries"
   ]
  },
  {
   "cell_type": "code",
   "execution_count": 1,
   "id": "5923bcc0-4758-4ebe-ab6b-bac7833e4ff3",
   "metadata": {},
   "outputs": [],
   "source": [
    "import cv2 as cv\n",
    "import numpy as np"
   ]
  },
  {
   "cell_type": "markdown",
   "id": "7373edac-b4f0-44da-b546-1e37202173f9",
   "metadata": {},
   "source": [
    "# Add text on image"
   ]
  },
  {
   "cell_type": "code",
   "execution_count": 6,
   "id": "151d4e67-c2e7-4527-97c0-37bbdb4f4325",
   "metadata": {},
   "outputs": [],
   "source": [
    "# Image\n",
    "black_image = np.zeros((512, 512, 3), np.uint8)\n",
    "\n",
    "# Add Text\n",
    "cv.putText(black_image, \"This is awesome!!\", (10, 200), cv.FONT_HERSHEY_SCRIPT_COMPLEX, 2, (100, 17), 4)\n",
    "cv.imshow(\"Add Text\", black_image)\n",
    "\n",
    "cv.waitKey(10000)\n",
    "cv.destroyAllWindows()"
   ]
  },
  {
   "cell_type": "markdown",
   "id": "c7a9ee33-39ed-4f68-bfae-2c74b240f435",
   "metadata": {},
   "source": [
    "# Draw Polygon on Black image"
   ]
  },
  {
   "cell_type": "code",
   "execution_count": 11,
   "id": "ba62c7b1-656f-492d-8d25-5f7c84ff3441",
   "metadata": {},
   "outputs": [],
   "source": [
    "# Image\n",
    "black_image = np.zeros((512, 512, 3), np.uint8)\n",
    "\n",
    "# define 4 points\n",
    "pts = np.array([[25, 65], [415, 65], [80, 150], [400, 500]], np.int32)\n",
    "\n",
    "# Reshape points in form that is required by polygon\n",
    "pts = pts.reshape((-1, 1, 2))\n",
    "\n",
    "# Create Polygon\n",
    "cv.polylines(black_image, [pts], True, (255, 255, 255), 3)\n",
    "cv.imshow(\"Polygon\", black_image)\n",
    "\n",
    "cv.waitKey(10000)\n",
    "cv.destroyAllWindows()"
   ]
  },
  {
   "cell_type": "markdown",
   "id": "127ae5f9-9cbb-4de1-9d77-f775ac7ea1c1",
   "metadata": {},
   "source": [
    "# Draw Hexagon on Black image"
   ]
  },
  {
   "cell_type": "code",
   "execution_count": 12,
   "id": "69eff357-af3a-4d5e-9045-e401ec6c264e",
   "metadata": {},
   "outputs": [],
   "source": [
    "# Create a black image\n",
    "black_image = np.zeros((512, 512, 3), np.uint8)\n",
    "\n",
    "# Define points for a regular hexagon\n",
    "center = (256, 256)  # Center of the image\n",
    "radius = 100  # Radius of the hexagon\n",
    "\n",
    "pts = []\n",
    "for i in range(6):\n",
    "    x = int(center[0] + radius * np.cos(2 * np.pi * i / 6))\n",
    "    y = int(center[1] + radius * np.sin(2 * np.pi * i / 6))\n",
    "    pts.append([x, y])\n",
    "\n",
    "pts = np.array(pts, np.int32)\n",
    "\n",
    "# Reshape points in the form required by the cv.polylines function\n",
    "pts = pts.reshape((-1, 1, 2))\n",
    "\n",
    "# Create a white filled hexagon on the black image\n",
    "cv.polylines(black_image, [pts], isClosed=True, color=(255, 255, 255), thickness=3)\n",
    "\n",
    "# Display the image and wait for a key press\n",
    "cv.imshow(\"Hexagon\", black_image)\n",
    "cv.waitKey(10000)\n",
    "cv.destroyAllWindows()\n"
   ]
  },
  {
   "cell_type": "code",
   "execution_count": null,
   "id": "ce9a36d2-26b9-47cf-99c6-c34cda6ee609",
   "metadata": {},
   "outputs": [],
   "source": []
  }
 ],
 "metadata": {
  "kernelspec": {
   "display_name": "Python 3 (ipykernel)",
   "language": "python",
   "name": "python3"
  },
  "language_info": {
   "codemirror_mode": {
    "name": "ipython",
    "version": 3
   },
   "file_extension": ".py",
   "mimetype": "text/x-python",
   "name": "python",
   "nbconvert_exporter": "python",
   "pygments_lexer": "ipython3",
   "version": "3.10.2"
  }
 },
 "nbformat": 4,
 "nbformat_minor": 5
}
