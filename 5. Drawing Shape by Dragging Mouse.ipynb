{
 "cells": [
  {
   "cell_type": "markdown",
   "id": "c6026852-631b-4588-9f42-b96fe2e6de22",
   "metadata": {},
   "source": [
    "# Import libraries"
   ]
  },
  {
   "cell_type": "code",
   "execution_count": 1,
   "id": "9802bfe5-477c-4600-9d38-a36f9936fe98",
   "metadata": {},
   "outputs": [],
   "source": [
    "import cv2 as cv\n",
    "import numpy as np"
   ]
  },
  {
   "cell_type": "code",
   "execution_count": 2,
   "id": "16bd4f4a-3ffa-4a6a-8c8c-397a33281f0e",
   "metadata": {},
   "outputs": [],
   "source": [
    "# define mouse pressed and mouse position parameters\n",
    "draw = False # will change when mouse is pressed\n",
    "ix, iy = -1, -1 # mouse position\n",
    "\n",
    "# Create a function to draw a blue rectangle when mouse is dragged\n",
    "def draw_rectangle(event, x, y, flagval, par):\n",
    "    global draw, ix, iy\n",
    "\n",
    "    if event == cv.EVENT_LBUTTONDOWN:\n",
    "        # draw = True, when you press down left mouse button\n",
    "        draw = True\n",
    "        # mouse location is captured here\n",
    "        ix, iy = x, y\n",
    "        \n",
    "    elif event == cv.EVENT_MOUSEMOVE:\n",
    "        # Dragging the mouse at this juncture\n",
    "        if draw == True:\n",
    "            # If draw is true then it means you click the left mouse button\n",
    "            # Here we will draw a rectangle from the previous position to x,y where the mouse is currenctly located\n",
    "            cv.rectangle(image_window, (ix, iy), (x, y), (255, 0, 0), -1)\n",
    "\n",
    "    elif event == cv.EVENT_LBUTTONUP:\n",
    "        # As soon as you release the mouse button , variable draw will be set to false\n",
    "        draw = False\n",
    "        # Here, we have successfully drawn the rectangle on the image window\n",
    "        cv.rectangle(image_window, (ix, iy), (x, y), (25, 0, 0), -1)\n",
    "\n",
    "# Creating a Black image window\n",
    "image_window = np.zeros((1024, 1024, 3), np.uint8)\n",
    "\n",
    "# Naming the window\n",
    "cv.namedWindow(winname = \"Image_Window\")\n",
    "\n",
    "# # Connecting the mouse button to the callback function\n",
    "cv.setMouseCallback('Image_Window', draw_rectangle)\n",
    "\n",
    "while True: # keep the block image window open until ESC key press\n",
    "    # Show the image window\n",
    "    cv.imshow(\"Image_Window\", image_window)\n",
    "\n",
    "    # Coming out of window by pressing ESC key\n",
    "    if cv.waitKey(1) & 0xFF == 27:\n",
    "        break\n",
    "        \n",
    "cv.destroyAllWindows()"
   ]
  },
  {
   "cell_type": "code",
   "execution_count": null,
   "id": "04acb112-f18f-424b-bef7-fe9a5ae36093",
   "metadata": {},
   "outputs": [],
   "source": []
  }
 ],
 "metadata": {
  "kernelspec": {
   "display_name": "Python 3 (ipykernel)",
   "language": "python",
   "name": "python3"
  },
  "language_info": {
   "codemirror_mode": {
    "name": "ipython",
    "version": 3
   },
   "file_extension": ".py",
   "mimetype": "text/x-python",
   "name": "python",
   "nbconvert_exporter": "python",
   "pygments_lexer": "ipython3",
   "version": "3.10.2"
  }
 },
 "nbformat": 4,
 "nbformat_minor": 5
}
