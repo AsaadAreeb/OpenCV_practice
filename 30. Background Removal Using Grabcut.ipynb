{
 "cells": [
  {
   "cell_type": "markdown",
   "id": "fc8b9e34-06c2-4493-af67-5cd110c3fef4",
   "metadata": {},
   "source": [
    "# Import Libraries"
   ]
  },
  {
   "cell_type": "code",
   "execution_count": 1,
   "id": "76d2b292-6a4e-48da-9d24-0b6dc9e6f031",
   "metadata": {},
   "outputs": [],
   "source": [
    "import cv2 as cv\n",
    "import numpy as np\n",
    "import matplotlib.pyplot as plt"
   ]
  },
  {
   "cell_type": "code",
   "execution_count": 3,
   "id": "d6ebfe3f-929d-4501-9ca7-82ee92872149",
   "metadata": {},
   "outputs": [],
   "source": [
    "img = cv.imread('..\\data\\images.jpeg')\n",
    "img = cv.resize(img, (800,800))\n",
    "\n",
    "mask = np.zeros(img.shape[:2], np.uint8)\n",
    "\n",
    "bgdModel =  np.zeros((1, 65), np.float64) * 255\n",
    "fgdModel =  np.zeros((1, 65), np.float64) * 255\n",
    "\n",
    "# rect(x1, y1, x2, y2)\n",
    "rect =\t(134, 150, 660, 730) # foreground\n",
    "\n",
    "# parameters (img, mask, rect, bgmodel, fgmodel, iter, method)\n",
    "cv.grabCut(img, mask, rect, bgdModel, fgdModel, 5,\n",
    "           cv.GC_INIT_WITH_RECT)\n",
    "\n",
    "mask2  =  np.where((mask==2)|(mask==0), 0, 1).astype('uint8')\n",
    "img  =\timg * mask2[:, :, np.newaxis]\n",
    "\n",
    "cv.imshow(\"Original\", img)\n",
    "\n",
    "cv.waitKey(0)\n",
    "cv.destroyAllWindows()"
   ]
  },
  {
   "cell_type": "code",
   "execution_count": null,
   "id": "437b6600-4c95-4428-8f5f-06a0ec15ae9a",
   "metadata": {},
   "outputs": [],
   "source": []
  }
 ],
 "metadata": {
  "kernelspec": {
   "display_name": "Python 3 (ipykernel)",
   "language": "python",
   "name": "python3"
  },
  "language_info": {
   "codemirror_mode": {
    "name": "ipython",
    "version": 3
   },
   "file_extension": ".py",
   "mimetype": "text/x-python",
   "name": "python",
   "nbconvert_exporter": "python",
   "pygments_lexer": "ipython3",
   "version": "3.10.2"
  }
 },
 "nbformat": 4,
 "nbformat_minor": 5
}
