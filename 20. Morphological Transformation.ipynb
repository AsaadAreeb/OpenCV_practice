{
 "cells": [
  {
   "cell_type": "markdown",
   "id": "a8745854-65b9-42c3-b2db-f8a9f2faff85",
   "metadata": {},
   "source": [
    "# Import Libraries"
   ]
  },
  {
   "cell_type": "code",
   "execution_count": 3,
   "id": "9a143532-1e56-41cb-af48-bbd4335dbdec",
   "metadata": {},
   "outputs": [],
   "source": [
    "import cv2 as cv\n",
    "import numpy as np\n",
    "import matplotlib.pyplot as plt"
   ]
  },
  {
   "cell_type": "code",
   "execution_count": 4,
   "id": "fdff9e36-787c-42cd-9a38-239f0c102909",
   "metadata": {},
   "outputs": [],
   "source": [
    "img = cv.imread(\"..\\data\\expert.png\", 0)"
   ]
  },
  {
   "cell_type": "markdown",
   "id": "350ac66a-b96a-423e-957b-7f711b0a1753",
   "metadata": {},
   "source": [
    "# Erosion---\n",
    "`it erodes away the boundaries of foreground object`\n",
    "\n",
    "`kernal slides through all the image and all the pixel`\n",
    "\n",
    "`from the original image consider 1 only if kernal's pixel is 1`"
   ]
  },
  {
   "cell_type": "code",
   "execution_count": 6,
   "id": "2b57a14b-7b1e-4993-affc-67974ce87187",
   "metadata": {},
   "outputs": [],
   "source": [
    "_, mask= cv.threshold(img, 230, 255, cv.THRESH_BINARY_INV)\n",
    "\n",
    "kernel = np.ones((5, 5), np.uint8)    # 5x5 kernel with full of ones.\n",
    "\n",
    "erosion = cv.erode(mask, kernel)    # optional parameters   iterations = 2\n",
    "\n",
    "cv.imshow(\"mask==\", mask)\n",
    "cv.imshow(\"img\", img)\n",
    "cv.imshow(\"erosion==\", erosion)\n",
    "\n",
    "\n",
    "cv.waitKey(0)\n",
    "cv.destroyAllWindows()"
   ]
  },
  {
   "cell_type": "markdown",
   "id": "ec516779-f9bb-4c3b-977a-82398197b688",
   "metadata": {},
   "source": [
    "# Dilation --\n",
    "`It is just opposite of erosion.`\n",
    "\n",
    "`Here, a pixel element is ‘1’ if atleast one pixel under the kernel is ‘1’`\n",
    "\n",
    "`So it inc. the white region in the image or size of foreground object in.`\n",
    "\n",
    "`Normally, in cases like noise removal, erosion is followed by dilation.`\n",
    "\n",
    "`Because, erosion removes white noises, but it also shrinks our object.`"
   ]
  },
  {
   "cell_type": "code",
   "execution_count": 7,
   "id": "6855d6f8-2940-4c0c-ae3b-746f362e6b88",
   "metadata": {},
   "outputs": [],
   "source": [
    "kernel = np.ones((1,1), np.uint8)    # 5x5 kernel with full of ones.\n",
    "\n",
    "dilation  = cv.dilate(mask, kernel)    # (optional parameters) iterations = 2\n",
    "\n",
    "\n",
    "cv.imshow(\"img\", img)\n",
    "cv.imshow(\"dilate==\", dilation)\n",
    "\n",
    "cv.waitKey(0)\n",
    "cv.destroyAllWindows()"
   ]
  },
  {
   "cell_type": "code",
   "execution_count": null,
   "id": "6a404db7-5905-48a4-aae5-41d564e41248",
   "metadata": {},
   "outputs": [],
   "source": []
  }
 ],
 "metadata": {
  "kernelspec": {
   "display_name": "Python 3 (ipykernel)",
   "language": "python",
   "name": "python3"
  },
  "language_info": {
   "codemirror_mode": {
    "name": "ipython",
    "version": 3
   },
   "file_extension": ".py",
   "mimetype": "text/x-python",
   "name": "python",
   "nbconvert_exporter": "python",
   "pygments_lexer": "ipython3",
   "version": "3.10.2"
  }
 },
 "nbformat": 4,
 "nbformat_minor": 5
}
