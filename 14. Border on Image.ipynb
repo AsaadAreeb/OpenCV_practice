{
 "cells": [
  {
   "cell_type": "markdown",
   "id": "cbefb122-6f07-4c08-a47c-6cfc61ac73cb",
   "metadata": {},
   "source": [
    "# Import Libraries"
   ]
  },
  {
   "cell_type": "code",
   "execution_count": 1,
   "id": "c8e647ab-8f3c-43c0-aeb9-b07ef2e3f8e2",
   "metadata": {},
   "outputs": [],
   "source": [
    "import cv2 as cv\n",
    "import numpy as np\n",
    "import matplotlib.pyplot as plt"
   ]
  },
  {
   "cell_type": "code",
   "execution_count": 3,
   "id": "221a8a41-2c70-4108-a004-d170fa50490f",
   "metadata": {},
   "outputs": [],
   "source": [
    "img1 = cv.imread(\"..\\data\\images.jpeg\")\n",
    "img1 = cv.resize(img1, (600, 400))\n",
    "\n",
    "# copyMakeBorder(img, top, bottom, right, left, bordertype, border_color)\n",
    "img1 = cv.copyMakeBorder(img1, 10, 1, 5, 50, cv.BORDER_CONSTANT, value=[255, 255, 155])\n",
    "\n",
    "cv.imshow(\"res\", img1)\n",
    "cv.waitKey(0)\n",
    "cv.destroyAllWindows()"
   ]
  },
  {
   "cell_type": "code",
   "execution_count": null,
   "id": "d7951e97-9d4d-4fc5-af90-3ee5d3e99b60",
   "metadata": {},
   "outputs": [],
   "source": []
  }
 ],
 "metadata": {
  "kernelspec": {
   "display_name": "Python 3 (ipykernel)",
   "language": "python",
   "name": "python3"
  },
  "language_info": {
   "codemirror_mode": {
    "name": "ipython",
    "version": 3
   },
   "file_extension": ".py",
   "mimetype": "text/x-python",
   "name": "python",
   "nbconvert_exporter": "python",
   "pygments_lexer": "ipython3",
   "version": "3.10.2"
  }
 },
 "nbformat": 4,
 "nbformat_minor": 5
}
