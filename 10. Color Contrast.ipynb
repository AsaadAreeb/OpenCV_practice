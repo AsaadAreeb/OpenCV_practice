{
 "cells": [
  {
   "cell_type": "markdown",
   "id": "749f3467-61d5-4705-a805-ea4614d81500",
   "metadata": {},
   "source": [
    "# Import Libraries"
   ]
  },
  {
   "cell_type": "code",
   "execution_count": 1,
   "id": "8be24a72-d070-44e0-bbed-31c4b712c724",
   "metadata": {},
   "outputs": [],
   "source": [
    "import cv2 as cv\n",
    "import numpy as np\n",
    "import matplotlib.pyplot as plt"
   ]
  },
  {
   "cell_type": "markdown",
   "id": "5dc82c8f-2efe-4ef3-a4d8-156db2883cc9",
   "metadata": {},
   "source": [
    "# Read/load Imput image"
   ]
  },
  {
   "cell_type": "code",
   "execution_count": 2,
   "id": "52264c78-260a-42cc-b677-043d68d194a3",
   "metadata": {},
   "outputs": [
    {
     "name": "stdout",
     "output_type": "stream",
     "text": [
      "[[[60 60 60]\n",
      "  [60 60 60]\n",
      "  [60 60 60]\n",
      "  ...\n",
      "  [60 60 60]\n",
      "  [60 60 60]\n",
      "  [60 60 60]]\n",
      "\n",
      " [[60 60 60]\n",
      "  [60 60 60]\n",
      "  [60 60 60]\n",
      "  ...\n",
      "  [60 60 60]\n",
      "  [60 60 60]\n",
      "  [60 60 60]]\n",
      "\n",
      " [[60 60 60]\n",
      "  [60 60 60]\n",
      "  [60 60 60]\n",
      "  ...\n",
      "  [60 60 60]\n",
      "  [60 60 60]\n",
      "  [60 60 60]]\n",
      "\n",
      " ...\n",
      "\n",
      " [[60 60 60]\n",
      "  [60 60 60]\n",
      "  [60 60 60]\n",
      "  ...\n",
      "  [60 60 60]\n",
      "  [60 60 60]\n",
      "  [60 60 60]]\n",
      "\n",
      " [[60 60 60]\n",
      "  [60 60 60]\n",
      "  [60 60 60]\n",
      "  ...\n",
      "  [60 60 60]\n",
      "  [60 60 60]\n",
      "  [60 60 60]]\n",
      "\n",
      " [[60 60 60]\n",
      "  [60 60 60]\n",
      "  [60 60 60]\n",
      "  ...\n",
      "  [60 60 60]\n",
      "  [60 60 60]\n",
      "  [60 60 60]]]\n"
     ]
    }
   ],
   "source": [
    "input_image = cv.imread(\"..\\data\\images.jpeg\")\n",
    "cv.imshow(\"Original Image\", input_image)\n",
    "\n",
    "# Matrix of ones which is multipled by a scaler value of 60, matrix has dimesions same as out input image\n",
    "Intensity_Matrix = np.ones(input_image.shape, dtype = 'uint8') * 60\n",
    "\n",
    "# Print Intensity Matrix\n",
    "print(Intensity_Matrix)\n",
    "\n",
    "# Add Intensity Matrix to input image in order to increase the brightness\n",
    "brightened_image = cv.add(input_image, Intensity_Matrix)\n",
    "cv.imshow(\"Bright\", input_image)\n",
    "\n",
    "# Subtract Intensity Matrix from input image in order to decrease the brightness\n",
    "darkended_image = cv.subtract(input_image, Intensity_Matrix)\n",
    "cv.imshow(\"Dark\", input_image)\n",
    "\n",
    "cv.waitKey(0)\n",
    "cv.destroyAllWindows()"
   ]
  }
 ],
 "metadata": {
  "kernelspec": {
   "display_name": "Python 3 (ipykernel)",
   "language": "python",
   "name": "python3"
  },
  "language_info": {
   "codemirror_mode": {
    "name": "ipython",
    "version": 3
   },
   "file_extension": ".py",
   "mimetype": "text/x-python",
   "name": "python",
   "nbconvert_exporter": "python",
   "pygments_lexer": "ipython3",
   "version": "3.10.2"
  }
 },
 "nbformat": 4,
 "nbformat_minor": 5
}
